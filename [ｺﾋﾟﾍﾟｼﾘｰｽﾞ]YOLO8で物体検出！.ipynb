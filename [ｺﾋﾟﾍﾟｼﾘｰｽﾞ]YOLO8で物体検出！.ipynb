{
  "nbformat": 4,
  "nbformat_minor": 0,
  "metadata": {
    "colab": {
      "provenance": [],
      "gpuType": "T4"
    },
    "kernelspec": {
      "name": "python3",
      "display_name": "Python 3"
    },
    "language_info": {
      "name": "python"
    },
    "accelerator": "GPU"
  },
  "cells": [
    {
      "cell_type": "markdown",
      "source": [
        "# [ｺﾋﾟﾍﾟｼﾘｰｽﾞ]YPLO8で物体検出！\n",
        "このノートはYOLO(You Only Look Once)を使った物体検出を体験するものです。"
      ],
      "metadata": {
        "id": "mMb4rd5Zd94U"
      }
    },
    {
      "cell_type": "markdown",
      "source": [
        "## Google Colaboratoryの基本操作\n",
        "### 実行\n",
        "```Shift + Enter```"
      ],
      "metadata": {
        "id": "WQaFJLIFeYOE"
      }
    },
    {
      "cell_type": "markdown",
      "source": [
        "## パッケージ(YOLO8)のインストール、インポート\n",
        "YOLO v5の開発元であるultralyticsのパッケージをインストールします。  \n",
        "```-q```はサイレントインストールするオプションキーになります。  \n",
        "▼以下コードを実行してください。"
      ],
      "metadata": {
        "id": "yWsUpLSxfvcD"
      }
    },
    {
      "cell_type": "code",
      "execution_count": null,
      "metadata": {
        "id": "PTFAK5w0B6kV"
      },
      "outputs": [],
      "source": [
        "%pip install ultralytics -q\n",
        "import ultralytics"
      ]
    },
    {
      "cell_type": "markdown",
      "source": [
        "## サンプル画像での物体検出①\n",
        "以下からサンプル画像を確認できます。  \n",
        "[https://ultralytics.com/images/bus.jpg](https://ultralytics.com/images/bus.jpg)  \n",
        "```\n",
        "model=yolov8n.pt\n",
        "```\n",
        "は今回使用するAI学習モデルを示します。公式ドキュメントには他のモデルも公開されています。\n",
        "```\n",
        "source='https://ultralytics.com/images/bus.jpg'\n",
        "```\n",
        "は今回対象となる画像を示します。  \n",
        "▼以下コードを実行してください。"
      ],
      "metadata": {
        "id": "KhLk7s1oiPzo"
      }
    },
    {
      "cell_type": "code",
      "source": [
        "!yolo predict model=yolov8n.pt source='https://ultralytics.com/images/bus.jpg'"
      ],
      "metadata": {
        "id": "vjsWszu9CT0I"
      },
      "execution_count": null,
      "outputs": []
    },
    {
      "cell_type": "markdown",
      "source": [
        "## サンプル画像での物体検出②\n",
        "以下からサンプル画像を確認できます。  \n",
        "[https://ultralytics.com/images/zidane.jpg](https://ultralytics.com/images/zidane.jpg)  \n",
        "```\n",
        "model=yolov8n.pt\n",
        "```\n",
        "は今回使用するAI学習モデルを示します。公式ドキュメントには他のモデルも公開されています。\n",
        "```\n",
        "source='https://ultralytics.com/images/zidane.jpg'\n",
        "```\n",
        "は今回対象となる画像を示します。  \n",
        "▼以下コードを実行してください。"
      ],
      "metadata": {
        "id": "PpR7G8-2gPdy"
      }
    },
    {
      "cell_type": "code",
      "source": [
        "!yolo predict model=yolov8n.pt source='https://ultralytics.com/images/zidane.jpg'"
      ],
      "metadata": {
        "id": "rTx0t7p0CDAO"
      },
      "execution_count": null,
      "outputs": []
    },
    {
      "cell_type": "markdown",
      "source": [
        "実行後は左のファイルアイコンから結果に示されているフォルダに移動してください。  \n",
        "大体は、```runs/detect/predict```に結果ファイルが格納されています。"
      ],
      "metadata": {
        "id": "lU2Y_hpyhke7"
      }
    },
    {
      "cell_type": "markdown",
      "source": [
        "## 自分の画像での物体検出\n",
        "左のファイルから「セッション ストレージにアップロード」ボタンを押して自分の画像を選択してください。\n",
        "```\n",
        "model=yolov8n.pt\n",
        "```\n",
        "は今回使用するAI学習モデルを示します。公式ドキュメントには他のモデルも公開されています。\n",
        "```\n",
        "source='{画像のパス}'\n",
        "```\n",
        "は今回対象となる画像を示します。ご自身がアップロードした画像のパスを入力してください。  \n",
        "▼以下コードを実行してください。"
      ],
      "metadata": {
        "id": "RzbROvDti8XD"
      }
    },
    {
      "cell_type": "code",
      "source": [
        "!yolo predict model=yolov8n.pt source='{画像のパス}'"
      ],
      "metadata": {
        "id": "5IY8oow_ENAU"
      },
      "execution_count": null,
      "outputs": []
    }
  ]
}